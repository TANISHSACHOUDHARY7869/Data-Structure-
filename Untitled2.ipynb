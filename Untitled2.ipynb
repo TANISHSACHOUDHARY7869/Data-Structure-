{
  "nbformat": 4,
  "nbformat_minor": 0,
  "metadata": {
    "colab": {
      "provenance": []
    },
    "kernelspec": {
      "name": "python3",
      "display_name": "Python 3"
    },
    "language_info": {
      "name": "python"
    }
  },
  "cells": [
    {
      "cell_type": "markdown",
      "source": [
        "1) What are data structures, and why are they important?\n",
        "\n",
        "Ans:- Data structures are specialized ways of organizing and storing data in a computer so that it can be accessed and modified efficiently.\n",
        "\n",
        "Common Types of Data Structures:\n",
        "\n",
        "Arrays - Store elements in a contiguous block of memory.\n",
        "\n",
        "Linked Lists - Elements (nodes) are connected via pointers.\n",
        "\n",
        "Stacks - Last-in, first-out (LIFO) structure.\n",
        "\n",
        "Queues - First-in, first-out (FIFO) structure.\n",
        "\n",
        "Trees - Hierarchical structures like binary trees or heaps.\n",
        "\n",
        "Graphs - Represent relationships between pairs of objects.\n",
        "\n",
        "Hash Tables - Store key-value pairs for fast access.\n",
        "\n",
        "Why They Are Important:\n",
        "\n",
        "1)Efficiency: Choosing the right data structure can greatly improve performance (speed and memory use).\n",
        "\n",
        "2)Organization: They help logically organize data for better problem-solving.\n",
        "\n",
        "3)Scalability: Enable handling larger datasets or more complex operations efficiently.\n",
        "\n",
        "4)Maintainability: Make code cleaner, easier to understand, and less error-prone.\n",
        "\n",
        "5)Algorithm Support: Many algorithms depend on specific structures to function correctly or optimally\n",
        "\n",
        "\n",
        "2) Explain the difference between mutable and immutable data types with examplesP\n",
        "\n",
        "Ans:- Difference Between Mutable and Immutable Data Types\n",
        "Mutable data types are those that can be changed after creation, while immutable data types cannot be changed once created.\n",
        "\n",
        "🔄 Mutable Data Types:\n",
        "You can modify the contents (e.g., add, delete, or change elements).\n",
        "\n",
        "\n",
        "🔒 Immutable Data Types:\n",
        "You cannot change the contents after creation. Any operation that seems to modify the object actually creates a new one.\n",
        "\n",
        "3) What are the main differences between lists and tuples in Python?\n",
        "\n",
        "Ans:- ✅ Main Differences Between Lists and Tuples in Python:\n",
        "    :-List\n",
        "      Feature:-\n",
        "      1)Mutability:- ✅ Mutable (can be changed)\n",
        "      2)Syntax:- my_list = [1, 2, 3]\n",
        "      3)Performance:- Slightly slower\n",
        "      4)Use Case:- When data needs to change\n",
        "      5)Methods Available:- Many (e.g. append(), remove())\n",
        "      6)Memory Usage:- Uses more memory\n",
        "      7)Hashable:-❌ Not hashable\n",
        "      Feature:-\n",
        "      1)Mutability:-❌ Immutable (cannot be changed)\n",
        "      2)Syntax:-my_tuple = (1, 2, 3)\n",
        "      3)Performance:-Faster (due to immutability)\n",
        "      5)Use Case:-When data should remain constant\n",
        "      6)Methods Available:- Fewer (mostly for inspection)\n",
        "      7)Memory Usage:-More memory-efficient\n",
        "      8)Hashable:-✅ Hashable (if containing only immutables)\n",
        "4) Describe how dictionaries store data?\n",
        "Ans:- : 🔍 How Dictionaries Store Data in Python\n",
        "A dictionary in Python stores data as key-value pairs, using a structure called a hash table. This allows for very fast access, insertion, and deletion.\n",
        "\n",
        "⚙️ Step-by-Step Breakdown:\n",
        "\n",
        "1. Hashing the Key\n",
        "Python applies a hash function to the key to get a hash value (an integer).\n",
        "\n",
        "2. Index Calculation\n",
        "The hash value is used to calculate an index in an internal array (using modulo with the table size)\n",
        "\n",
        "3. Storing Key-Value Pairs\n",
        "At the calculated index, the key and value are stored together as a pair in a \"bucket\"\n",
        "\n",
        "4. Collision Handling\n",
        ".If two keys have the same index, it’s a collision.\n",
        "\n",
        ".Python uses open addressing (like probing) or chaining (linked buckets) to\n",
        " resolve this.\n",
        "\n",
        "5. Fast Lookup\n",
        ".When you do my_dict['apple'], Python:\n",
        "\n",
        ".Hashes 'apple'\n",
        "\n",
        ".Finds the correct index\n",
        "\n",
        ".Retrieves the value without scanning the whole dictionary\n",
        "\n",
        "5) Why might you use a set instead of a list in Python?\n",
        "\n",
        "Ans:- ✅ 1. No Duplicates Allowed\n",
        ".A set automatically removes duplicates, making it ideal for storing unique\n",
        " items.\n",
        "\n",
        "⚡ 2. Faster Membership Testing\n",
        ".Sets use a hash table, so checking if an item exists (in) is much faster—O(1)\n",
        " on average vs. O(n) for lists.\n",
        "\n",
        "🧰 3. Useful Set Operations\n",
        ".Sets support powerful math-like operations: union, intersection, difference,\n",
        " etc.\n",
        "\n",
        " 🚫 When Not to Use a Set:\n",
        ".If you need to preserve order (prior to Python 3.7), or allow duplicates, a list is better.\n",
        "\n",
        ".Sets are also unordered, so you can’t rely on element position (like indexing in lists).\n",
        "\n",
        "6) What is a string in Python, and how is it different from a list\n",
        "Ans:-🧵 What Is a String in Python?\n",
        "A string in Python is a sequence of characters used to represent text. It is defined by enclosing characters in single (') or double (\") quotes.\n",
        "\n",
        "Strings are:\n",
        ".Immutable (cannot be changed after creation)\n",
        ".Indexed and iterable (you can access individual characters and loop through them)\n",
        "\n",
        " 🆚 How a String Differs from a List\n",
        " 1)String\n",
        "  :-Feature\n",
        "   1)Data Type:-Sequence of characters\n",
        "   2)Mutability:-❌ Immutable (cannot be changed)\n",
        "   3)Element Type\t:-Always str\n",
        "   4)Syntax\t:- \"hello\" or 'hello'\n",
        "   5)Use Cases:- Text processing, messages, filenames\n",
        " 2)List\n",
        "   :-Feature\n",
        "   1)Data Type:- Sequence of any data types\n",
        "   2)Mutablity:-✅ Mutable (can be modified)\n",
        "   3)Element:- Can be mixed (e.g., int, str, float)\n",
        "   4)Syntax:- [1, 2, \"hello\"]\n",
        "   5)Use Cases:-General collections of data\n",
        "\n",
        "7) How do tuples ensure data integrity in Python?\n",
        "Ans:- 🔐 How Tuples Ensure Data Integrity in Python\n",
        "Tuples help ensure data integrity primarily through their immutability — once a tuple is created, its contents cannot be changed.\n",
        "\n",
        "✅ Key Ways Tuples Ensure Data Integrity:\n",
        "1. Immutability\n",
        ".You cannot add, remove, or modify elements of a tuple.\n",
        "\n",
        ".This makes it safe to use for constant or sensitive data that should not accidentally change.\n",
        "\n",
        "2. Hashability\n",
        ".Tuples (containing only immutable elements) are hashable, meaning they can be used as keys in dictionaries or elements of a set.\n",
        "\n",
        ".This property allows them to be safely used in contexts that require unchangeable identifiers.\n",
        "\n",
        "3.Predictability\n",
        ".Because tuples cannot change, they ensure consistent behavior across a program.\n",
        "\n",
        ".This predictability is especially valuable in multi-threaded applications or when passing data between functions.\n",
        "\n",
        "4. Semantic Clarity\n",
        ".Using tuples for fixed collections (e.g., RGB colors, date triples) signals to other developers that the values are not meant to change.\n",
        "\n",
        "8) What is a hash table, and how does it relate to dictionaries in Python?\n",
        "Ans:-🔐 What Is a Hash Table?\n",
        "A hash table is a data structure that stores key-value pairs and allows for fast access to data using a key. It uses a hash function to convert each key into an index in an internal array, where the corresponding value is stored.\n",
        "\n",
        "⚙️ How It Works:\n",
        "1:Hashing the Key\n",
        " .A hash function converts the key into an integer (hash value).\n",
        "2:Indexing into the Table\n",
        ".The hash value is then used to find an index (bucket) in the table:\n",
        "3:Storing Key-Value Pairs\n",
        ".The key and value are stored together at the computed index.\n",
        "4:Handling Collisions\n",
        ".If two keys produce the same index, Python handles it internally (e.g., using open addressing or probing) to avoid overwriting.\n",
        "=> How It Relates to Dictionaries in Python:\n",
        " .A Python dict is implemented using a hash table. Here’s the connection\n",
        "\n",
        " 1.Hash Table Concept:-Python Dictionary (dict) Equivalent\n",
        " 2.Key:--Dictionary key (must be immutable)\n",
        " 3.Value:Dictionary value\n",
        " 4.Hash Function:-hash() function applied to dictionary keys\n",
        " 5.Bucket or Slot:- Internal memory location for key-value pair\n",
        " 6.Collision Resolution:-Handled internally by Python automatically\n",
        "\n",
        "9) Can lists contain different data types in Python?\n",
        "Ans:-✅ Yes, Lists Can Contain Different Data Types in Python\n",
        "Python lists are heterogeneous, meaning they can hold elements of different data types in the same list.\n",
        "\n",
        "This list contains:\n",
        ".An int (42)\n",
        ".A str (\"hello\")\n",
        ".A float (3.14)\n",
        ".A bool (True)\n",
        ".Another list\n",
        ".A dict\n",
        "\n",
        "10) Explain why strings are immutable in Python?\n",
        "Ans:- :\n",
        "🔒 Why Strings Are Immutable in Python\n",
        "In Python, strings are immutable, meaning they cannot be changed after they are created. This design choice is intentional and provides several important benefits:\n",
        "\n",
        "✅ 1. Efficiency and Performance\n",
        ".Python internally caches and reuses string objects to save memory and speed up execution.\n",
        ".Immutability\n",
        "✅ 2. Hashability for Dictionaries and Sets\n",
        ".Immutable objects can be hashed, which is required for using them as keys in dictionaries or elements in sets.\n",
        ".If strings were mutable, their hash value could change — breaking the reliability of these data structures.\n",
        "✅ 3. Security and Predictability\n",
        ".Immutability ensures that once a string is created, its value can't be changed unexpectedly, making your code more reliable and bug-resistant.\n",
        "✅ 4. Thread-Safety\n",
        ".Since strings can't change, they are safe to use across multiple threads without needing locks or synchronization.\n",
        "\n",
        "11) What advantages do dictionaries offer over lists for certain tasks?\n",
        "Ans:-✅ Advantages of Dictionaries Over Lists in Python\n",
        "Dictionaries offer several key advantages over lists, especially for tasks involving key-based access, faster lookups, and structured data.\n",
        "\n",
        "🔍 1. Fast Lookup by Key (O(1))\n",
        ".Dictionaries use a hash table, allowing you to access values using keys in constant time, regardless of size.\n",
        "\n",
        "🧩 2. Key-Value Pairing\n",
        ".Dictionaries store named data, making code easier to read and maintain.\n",
        "\n",
        "🚫 3. Avoids Duplicates in Keys\n",
        ".Keys in a dictionary are unique, so you can’t accidentally overwrite meaningful data.\n",
        "\n",
        "📐 4. More Semantically Accurate for Mappings\n",
        ".Dictionaries are perfect for modeling relationships or mappings between items (e.g., a phone book or settings).\n",
        "\n",
        "12)Describe a scenario where using a tuple would be preferable over a list?\n",
        "Ans:-A scenario where using a tuple would be preferable over a list is when you need to store a collection of fixed, unchangeable data—in other words, when immutability is important.\n",
        "\n",
        "Example Scenario:\n",
        "Suppose you are defining a set of coordinates for a location on a map, such as latitude and longitude\n",
        "\n",
        "Why a Tuple is Preferable:\n",
        "Immutability: Coordinates shouldn't be changed accidentally, so a tuple enforces data integrity.\n",
        "\n",
        "Hashable: Tuples can be used as keys in dictionaries, whereas lists cannot.\n",
        "\n",
        "Performance: Tuples have a smaller memory footprint and slightly faster access than lists.\n",
        "\n",
        "13) How do sets handle duplicate values in Python?\n",
        "Ans:-In Python, sets automatically ignore duplicate values—they only store unique elements.\n",
        "\n",
        "Example:\n",
        "\n",
        "\n",
        "\n",
        "\n",
        "\n",
        "\n",
        "\n",
        "\n",
        "\n"
      ],
      "metadata": {
        "id": "aOP3IOc9TQt3"
      }
    },
    {
      "cell_type": "code",
      "source": [
        "my_set = {1, 2, 2, 3, 3, 3}\n",
        "print(my_set)\n"
      ],
      "metadata": {
        "id": "o543bAyP9BAi",
        "outputId": "38c12da4-140b-4125-d841-444b3b2d78ac",
        "colab": {
          "base_uri": "https://localhost:8080/"
        }
      },
      "execution_count": 2,
      "outputs": [
        {
          "output_type": "stream",
          "name": "stdout",
          "text": [
            "{1, 2, 3}\n"
          ]
        }
      ]
    },
    {
      "cell_type": "markdown",
      "source": [
        "Explanation:\n",
        "Sets use a hash-based structure that does not allow duplicates.\n",
        "\n",
        "When a duplicate is added, it's ignored silently—no error is raised.\n",
        "\n",
        "14)How does the “in” keyword work differently for lists and dictionaries?\n",
        "Ans:-The in keyword is used for membership testing, but it behaves differently for lists and dictionaries in Python.\n",
        "\n",
        "🔹 For lists:\n",
        "in checks whether a value exists in the list.\n"
      ],
      "metadata": {
        "id": "LaoL0rVA9E96"
      }
    },
    {
      "cell_type": "code",
      "source": [
        "fruits = ['apple', 'banana', 'cherry']\n",
        "print('banana' in fruits)  # Output: True"
      ],
      "metadata": {
        "id": "4OX0t0kg9x3n",
        "outputId": "431ffe7f-e1a7-4f8b-b327-e5961f92c6ac",
        "colab": {
          "base_uri": "https://localhost:8080/"
        }
      },
      "execution_count": 5,
      "outputs": [
        {
          "output_type": "stream",
          "name": "stdout",
          "text": [
            "True\n"
          ]
        }
      ]
    },
    {
      "cell_type": "markdown",
      "source": [
        ".It searches through the values in the list.\n",
        ".The search is sequential, so it's slower for large lists.\n",
        "\n",
        "🔹 For dictionaries:\n",
        "in checks whether a key exists in the dictionary—not the value.\n"
      ],
      "metadata": {
        "id": "cI2Rxekw955x"
      }
    },
    {
      "cell_type": "code",
      "source": [
        "person = {'name': 'Alice', 'age': 30}\n",
        "print('name' in person)   # Output: True\n",
        "print('Alice' in person)  # Output: False"
      ],
      "metadata": {
        "id": "BVhoz-oz-Vgt",
        "outputId": "8f3cf8e8-e6d1-4bb9-caf8-940a394d5c83",
        "colab": {
          "base_uri": "https://localhost:8080/"
        }
      },
      "execution_count": 6,
      "outputs": [
        {
          "output_type": "stream",
          "name": "stdout",
          "text": [
            "True\n",
            "False\n"
          ]
        }
      ]
    },
    {
      "cell_type": "markdown",
      "source": [
        ".It checks for keys only unless you explicitly check values ('Alice' in person.values()).\n",
        ".It's faster than a list lookup due to dictionary hashing.\n",
        "15)Can you modify the elements of a tuple? Explain why or why not?\n",
        "Ans:-ChatGPT said:\n",
        "No, you cannot modify the elements of a tuple once it has been created. This is because tuples are immutable in Python.\n",
        "\n",
        "Why Tuples Are Immutable:\n",
        ".Immutability means that once a tuple is created, its contents cannot be changed—no additions, deletions, or modifications of elements.\n",
        ".The elements in a tuple are fixed for the lifetime of the tuple object.\n",
        "\n",
        "Example of trying to modify a tuple:\n",
        "\n"
      ],
      "metadata": {
        "id": "qXtRnIJ1-Xsc"
      }
    },
    {
      "cell_type": "code",
      "source": [
        "my_tuple = (1, 2, 3)\n",
        "my_tuple[1] = 4  # This will raise a TypeError\n"
      ],
      "metadata": {
        "id": "L__1xlcF-8W8",
        "outputId": "806a59f7-9f19-4960-91e7-80f7e92f9377",
        "colab": {
          "base_uri": "https://localhost:8080/",
          "height": 158
        }
      },
      "execution_count": 9,
      "outputs": [
        {
          "output_type": "error",
          "ename": "TypeError",
          "evalue": "'tuple' object does not support item assignment",
          "traceback": [
            "\u001b[0;31m---------------------------------------------------------------------------\u001b[0m",
            "\u001b[0;31mTypeError\u001b[0m                                 Traceback (most recent call last)",
            "\u001b[0;32m<ipython-input-9-c6b50a6c64c7>\u001b[0m in \u001b[0;36m<cell line: 0>\u001b[0;34m()\u001b[0m\n\u001b[1;32m      1\u001b[0m \u001b[0mmy_tuple\u001b[0m \u001b[0;34m=\u001b[0m \u001b[0;34m(\u001b[0m\u001b[0;36m1\u001b[0m\u001b[0;34m,\u001b[0m \u001b[0;36m2\u001b[0m\u001b[0;34m,\u001b[0m \u001b[0;36m3\u001b[0m\u001b[0;34m)\u001b[0m\u001b[0;34m\u001b[0m\u001b[0;34m\u001b[0m\u001b[0m\n\u001b[0;32m----> 2\u001b[0;31m \u001b[0mmy_tuple\u001b[0m\u001b[0;34m[\u001b[0m\u001b[0;36m1\u001b[0m\u001b[0;34m]\u001b[0m \u001b[0;34m=\u001b[0m \u001b[0;36m4\u001b[0m  \u001b[0;31m# This will raise a TypeError\u001b[0m\u001b[0;34m\u001b[0m\u001b[0;34m\u001b[0m\u001b[0m\n\u001b[0m",
            "\u001b[0;31mTypeError\u001b[0m: 'tuple' object does not support item assignment"
          ]
        }
      ]
    },
    {
      "cell_type": "code",
      "source": [
        "TypeError: 'tuple' object does not support item assignment"
      ],
      "metadata": {
        "id": "S_qKeAaT_J2N",
        "outputId": "3d2ac297-87e5-4371-b620-b897468642b6",
        "colab": {
          "base_uri": "https://localhost:8080/",
          "height": 106
        }
      },
      "execution_count": 10,
      "outputs": [
        {
          "output_type": "error",
          "ename": "SyntaxError",
          "evalue": "invalid syntax (<ipython-input-10-4f3ccf73e4f9>, line 1)",
          "traceback": [
            "\u001b[0;36m  File \u001b[0;32m\"<ipython-input-10-4f3ccf73e4f9>\"\u001b[0;36m, line \u001b[0;32m1\u001b[0m\n\u001b[0;31m    TypeError: 'tuple' object does not support item assignment\u001b[0m\n\u001b[0m                       ^\u001b[0m\n\u001b[0;31mSyntaxError\u001b[0m\u001b[0;31m:\u001b[0m invalid syntax\n"
          ]
        }
      ]
    },
    {
      "cell_type": "markdown",
      "source": [
        "Why is it like this?\n",
        ".Tuples are designed to be hashable, which means they can be used as keys in dictionaries. To ensure their reliability in such situations, their contents must remain constant.\n",
        ".Immutability also makes tuples faster and more memory efficient than lists in certain cases.\n",
        "\n",
        "When can you \"modify\" a tuple?\n",
        ".You cannot modify individual elements, but you can create a new tuple based on the original one, for example:\n",
        "\n",
        "\n"
      ],
      "metadata": {
        "id": "e0U_08We_OQP"
      }
    },
    {
      "cell_type": "code",
      "source": [
        "my_tuple = (1, 2, 3)\n",
        "new_tuple = my_tuple + (4,)\n",
        "print(new_tuple)  # Output: (1, 2, 3, 4)\n"
      ],
      "metadata": {
        "id": "KeGUKsD2_erb",
        "outputId": "0b1e7705-83e6-480e-8015-791e89efbbac",
        "colab": {
          "base_uri": "https://localhost:8080/"
        }
      },
      "execution_count": 11,
      "outputs": [
        {
          "output_type": "stream",
          "name": "stdout",
          "text": [
            "(1, 2, 3, 4)\n"
          ]
        }
      ]
    },
    {
      "cell_type": "markdown",
      "source": [
        "16)What is a nested dictionary, and give an example of its use case?\n",
        "Ans:-A nested dictionary is a dictionary where the values associated with some keys are themselves dictionaries. This allows you to represent more complex, hierarchical data structures.\n",
        "\n",
        "Example of a Nested Dictionary:\n",
        "Imagine you're managing a company's employee records where each employee has details like name, department, and contact information (which is itself a dictionary).\n"
      ],
      "metadata": {
        "id": "yMnowvl1_gQ_"
      }
    },
    {
      "cell_type": "code",
      "source": [
        "employees = {\n",
        "    \"emp001\": {\n",
        "        \"name\": \"Alice\",\n",
        "        \"department\": \"HR\",\n",
        "        \"contact\": {\n",
        "            \"email\": \"alice@example.com\",\n",
        "            \"phone\": \"123-456-7890\"\n",
        "        }\n",
        "    },\n",
        "    \"emp002\": {\n",
        "        \"name\": \"Bob\",\n",
        "        \"department\": \"IT\",\n",
        "        \"contact\": {\n",
        "            \"email\": \"bob@example.com\",\n",
        "            \"phone\": \"987-654-3210\"\n",
        "        }\n",
        "    }\n",
        "}\n"
      ],
      "metadata": {
        "id": "WD-WE7Rw_74B"
      },
      "execution_count": 13,
      "outputs": []
    },
    {
      "cell_type": "markdown",
      "source": [
        "Use Case: Company Employee Data\n",
        "In this case:\n",
        "\n",
        ".The outer dictionary uses employee IDs as keys (e.g., \"emp001\", \"emp002\").\n",
        "\n",
        ".The value for each employee ID is another dictionary that holds details about the employee (e.g., \"name\", \"department\", \"contact\").\n",
        "\n",
        ".The contact field itself is a dictionary containing email and phone numbers.\n",
        "\n",
        "Accessing Data in a Nested Dictionary:\n",
        "You can access values by chaining the keys:"
      ],
      "metadata": {
        "id": "GCTH4X9z_-0W"
      }
    },
    {
      "cell_type": "code",
      "source": [
        "# Get Bob's email\n",
        "print(employees[\"emp002\"][\"contact\"][\"email\"])  # Output: bob@example.com\n"
      ],
      "metadata": {
        "id": "CM508Et3ALzV",
        "outputId": "2c43f06c-2728-4446-fede-7c18201f8836",
        "colab": {
          "base_uri": "https://localhost:8080/"
        }
      },
      "execution_count": 14,
      "outputs": [
        {
          "output_type": "stream",
          "name": "stdout",
          "text": [
            "bob@example.com\n"
          ]
        }
      ]
    },
    {
      "cell_type": "markdown",
      "source": [
        "Why Use a Nested Dictionary?\n",
        "Nested dictionaries are useful when you need to represent complex, multi-level relationships, such as:\n",
        "\n",
        ".Employee information (like in the example).\n",
        ".Product catalog with categories and subcategories.\n",
        ".Configuration settings where some settings have their own sub-settings\n",
        "\n",
        "17)  Describe the time complexity of accessing elements in a dictionary?\n",
        "Ans:- The time complexity of accessing elements in a Python dictionary is O(1) on average, also known as constant time. This means that retrieving a value by key, such as my_dict[key], typically takes the same amount of time regardless of the size of the dictionary.\n",
        "\n",
        "Why is it O(1)?\n",
        ".Hashing: Python dictionaries are implemented using a hash table. When you access a value using a key, Python computes the hash of the key and uses it to directly locate the corresponding value in the table.\n",
        ".This allows for constant-time lookups on average because the hash function quickly computes where the value is stored, without having to search through all entries.\n",
        "\n",
        "Best Case:\n",
        ".O(1) time complexity for lookups (average case).\n",
        ".Accessing my_dict[key] takes constant time.\n",
        "\n",
        "Worst Case:\n",
        ".O(n) time complexity (in rare cases).\n",
        ".In very rare situations (such as a hash collision), multiple keys might end up in the same location (bucket) in the hash table. This can cause the dictionary to fall back to sequential searching within that bucket, which takes linear time (O(n)) in the worst case.\n",
        ".However, Python uses techniques like rehashing and open addressing to reduce the likelihood of this happening.\n",
        "\n",
        "18) In what situations are lists preferred over dictionaries?\n",
        "Ans:- Lists are preferred over dictionaries in situations where:\n",
        "\n",
        "1. Order Matters\n",
        ".Lists maintain the order of elements, while dictionaries only guarantee order starting from Python 3.7, and even then, they're primarily key-value pairs, not a sequence of ordered values.\n",
        ".Use a list when you need to preserve and work with the order of items.\n",
        "2. When You Need to Store a Simple Collection of Items\n",
        ".Lists are ideal for storing a simple collection of values where each element can be accessed by an index, and there’s no need for key-value pairs.\n",
        "3. When You Need to Access Elements by Position (Index)\n",
        ".Lists allow access to elements by their index (position), which is perfect when you need to retrieve elements in a specific sequence or manipulate them based on their position.\n",
        "4. When You Need to Perform Operations Like Sorting or Slicing\n",
        ".Lists have built-in methods like .sort(), .reverse(), and support slicing, which makes them useful for scenarios where order-based manipulation is important.\n",
        "5. When You Need to Store Duplicate Values\n",
        ".Unlike dictionaries, which only store unique keys, lists allow duplicate values.\n",
        "6. When You Need to Iterate Over a Sequence of Values\n",
        ".If you need to iterate over a collection of values (without needing key-value pairs), lists are ideal because they are directly designed for iteration in a sequential manner.\n",
        "\n",
        "19)Why are dictionaries considered unordered, and how does that affect data retrieval\n",
        "\n",
        "Ans:- Dictionaries in Python are considered unordered because, historically, the elements in a dictionary were stored in no particular sequence. This means the key-value pairs are not stored in the order in which they are added. However, starting from Python 3.7, dictionaries maintain insertion order (the order in which items are added). This feature makes dictionaries ordered in Python 3.7+ but, they are still considered unordered in terms of the way they are internally implemented and accessed.\n",
        "\n",
        "Why Are Dictionaries Considered Unordered?\n",
        "1)Hash Table Implementation:\n",
        ".Dictionaries are implemented using a hash table. A hash table is a data structure that stores data in \"buckets\" based on the hash value of keys.\n",
        ".When you add a key-value pair to a dictionary, Python computes a hash of the key and determines the \"bucket\" in which to store the key-value pair.\n",
        ".The actual memory location where the item is stored doesn't depend on the order it was inserted, but rather on the hash value of the key.\n",
        ".This is why, in versions of Python before 3.7, dictionaries did not preserve insertion order.\n",
        "\n",
        "2)Efficiency:\n",
        ".The primary advantage of a dictionary's unordered nature is that lookups, insertions, and deletions are extremely fast (on average, O(1) time complexity).\n",
        ".Maintaining order would slow down these operations, as it would require additional bookkeeping.\n",
        "\n",
        "3)Data Retrieval in Dictionaries:\n",
        ".Accessing data by key:\n",
        ".The unordered nature of dictionaries doesn't affect data retrieval by key because Python uses a hash table to quickly compute the location of the value associated with a specific key. The retrieval is still fast (O(1)), regardless of the order in which items were added to the dictionary.\n",
        ".Iteration:\n",
        ".Before Python 3.7, if you looped through a dictionary, the items might not be retrieved in the order they were added. However, since Python 3.7, dictionaries maintain insertion order, so the items will be returned in the same order they were inserted.\n",
        "\n",
        "How This Affects Data Retrieval:\n",
        "1)Lookup by Key:\n",
        ".The unordered nature does not affect the speed or correctness of key-based retrieval. Python uses the key's hash value to locate the associated value in constant time, regardless of insertion order.\n",
        ".For example, my_dict['banana'] will always return 2, regardless of where 'banana' was placed in the dictionary.\n",
        "\n",
        "2)Iteration:\n",
        ".Before Python 3.7, since the dictionary was unordered, iterating over its items did not guarantee any specific order, which could be problematic in some use cases.\n",
        ".However, in Python 3.7 and later, insertion order is preserved, so the order of iteration matches the order in which elements were added.\n",
        "3)Performance:\n",
        ".Dictionary operations like insertion, deletion, and lookup are efficient (O(1) on average) because they are based on a hash table. However, maintaining insertion order in Python 3.7+ requires a small performance trade-off in memory usage, but this is generally negligible.\n",
        "\n",
        "20) Explain the difference between a list and a dictionary in terms of data retrieval?\n",
        "Ans:-The primary difference between a list and a dictionary in terms of data retrieval lies in how the data is accessed and the underlying structure used to retrieve the data.\n",
        "\n",
        "1. Data Structure:\n",
        "List: A list is an ordered collection of elements where each element is accessed by its index (position) in the list. Lists are implemented as arrays.\n",
        "\n",
        "Dictionary: A dictionary is an unordered collection of key-value pairs. Data is retrieved using a key to access the corresponding value. Dictionaries are implemented using hash tables.\n",
        "\n",
        "2. Accessing Data:\n",
        "List:\n",
        ".Index-based retrieval. You access a list element using its index.\n",
        ".Example: my_list[2] will retrieve the third element in the list.\n",
        ".Access time is O(1) for direct indexing, but O(n) if you're searching for an element by value.\n",
        ".Dictionary:\n",
        ".Key-based retrieval. You access a dictionary value using its key.\n",
        ".Example: my_dict['name'] will retrieve the value associated with the key 'name'.\n",
        ".Access time is O(1) on average because dictionaries are implemented with a hash table, making key-based lookup very efficient.\n",
        "\n",
        "3. Order:\n",
        "List:\n",
        ".Lists are ordered (i.e., the order of elements matters) and each element has a specific index. The order of elements is preserved.\n",
        ".Accessing elements is based on the position/index.\n",
        ".Dictionary:\n",
        ".Dictionaries are unordered (in Python versions before 3.7) or ordered (in Python 3.7+), but they are primarily key-value pairs. The order in which elements are inserted is not the primary concern when retrieving data.\n",
        ".Accessing elements is based on the key, not the position.\n",
        "\n",
        "4. Efficiency:\n",
        "List:\n",
        ".When accessing elements by index, it is fast with O(1) time complexity.\n",
        ".Searching for an element by value takes O(n) time, as it requires iterating through the entire list to find a match.\n",
        ".Dictionary:\n",
        ".Key-based lookups are fast, with O(1) average time complexity due to the hash table implementation.\n",
        ".Searching by value is also possible, but it takes O(n) time, as it requires checking each key-value pair to find a match.\n",
        "\n",
        "\n",
        "\n",
        "\n",
        "\n",
        "\n",
        "\n"
      ],
      "metadata": {
        "id": "j6rf8Yz5AQ4e"
      }
    },
    {
      "cell_type": "markdown",
      "source": [
        "1) Write a code to create a string with your name and print it?\n",
        "Ans:-Sure! Here's a simple Python code to create a string with your name and print it:\n",
        "\n"
      ],
      "metadata": {
        "id": "Z2MaijEx5Mor"
      }
    },
    {
      "cell_type": "code",
      "source": [
        "# Create a string with your name\n",
        "my_name = \"tanisha choudhary\"\n",
        "\n",
        "# Print the string\n",
        "print(\"My name is:\", my_name)\n"
      ],
      "metadata": {
        "id": "xd4lYWss6osd",
        "outputId": "a81ea2ed-9996-4bc4-8a7b-eb7b5707a7ad",
        "colab": {
          "base_uri": "https://localhost:8080/"
        }
      },
      "execution_count": 2,
      "outputs": [
        {
          "output_type": "stream",
          "name": "stdout",
          "text": [
            "My name is: tanisha choudhary\n"
          ]
        }
      ]
    },
    {
      "cell_type": "markdown",
      "source": [
        "2)Write a code to find the length of the string \"Hello World\"?\n",
        "Ans:-Here's a simple Python code to find the length of the string \"Hello World\":\n",
        "\n",
        "\n",
        "\n"
      ],
      "metadata": {
        "id": "KemuC0c_60Ko"
      }
    },
    {
      "cell_type": "code",
      "source": [
        "# Define the string\n",
        "text = \"Hello World\"\n",
        "\n",
        "# Find and print the length\n",
        "length = len(text)\n",
        "print(\"Length of the string is:\", length)\n"
      ],
      "metadata": {
        "id": "Xj95bjan7T_0",
        "outputId": "2f3dc20a-4d02-49ae-abd1-20e4d5375a06",
        "colab": {
          "base_uri": "https://localhost:8080/"
        }
      },
      "execution_count": 3,
      "outputs": [
        {
          "output_type": "stream",
          "name": "stdout",
          "text": [
            "Length of the string is: 11\n"
          ]
        }
      ]
    },
    {
      "cell_type": "markdown",
      "source": [
        "3)Write a code to slice the first 3 characters from the string \"Python Programming\"?\n",
        "Ans:-Sure! Here's the Python code to slice the first 3 characters from the string \"Python Programming\":\n",
        "\n",
        "\n"
      ],
      "metadata": {
        "id": "33hI6PbS7XP-"
      }
    },
    {
      "cell_type": "code",
      "source": [
        "# Define the string\n",
        "text = \"Python Programming\"\n",
        "\n",
        "# Slice the first 3 characters\n",
        "sliced = text[:3]\n",
        "\n",
        "# Print the result\n",
        "print(\"First 3 characters:\", sliced)\n"
      ],
      "metadata": {
        "id": "lAqr-N1R8AGT",
        "outputId": "eb08ec1a-865d-4aed-d6b4-96407002f644",
        "colab": {
          "base_uri": "https://localhost:8080/"
        }
      },
      "execution_count": 4,
      "outputs": [
        {
          "output_type": "stream",
          "name": "stdout",
          "text": [
            "First 3 characters: Pyt\n"
          ]
        }
      ]
    },
    {
      "cell_type": "markdown",
      "source": [
        "4) Write a code to convert the string \"hello\" to uppercase\n",
        "Ans:-"
      ],
      "metadata": {
        "id": "G2DyuFzP8K5J"
      }
    },
    {
      "cell_type": "code",
      "source": [
        "# Define the string\n",
        "text = \"hello\"\n",
        "\n",
        "# Convert to uppercase\n",
        "uppercase_text = text.upper()\n",
        "\n",
        "# Print the result\n",
        "print(\"Uppercase:\", uppercase_text)\n"
      ],
      "metadata": {
        "id": "ztu9KwTA8aVY",
        "outputId": "580b7cd9-14bf-49ac-af7f-f60330ba445f",
        "colab": {
          "base_uri": "https://localhost:8080/"
        }
      },
      "execution_count": 5,
      "outputs": [
        {
          "output_type": "stream",
          "name": "stdout",
          "text": [
            "Uppercase: HELLO\n"
          ]
        }
      ]
    },
    {
      "cell_type": "markdown",
      "source": [
        "5) Write a code to replace the word \"apple\" with \"orange\" in the string \"I like apple\"?\n",
        "Ans:-Certainly! Here's a Python code snippet that replaces the word \"apple\" with \"orange\" in the string \"I like apple\":\n",
        "\n"
      ],
      "metadata": {
        "id": "cKH0xZlG8cG2"
      }
    },
    {
      "cell_type": "code",
      "source": [
        "# Define the string\n",
        "text = \"I like apple\"\n",
        "\n",
        "# Replace \"apple\" with \"orange\"\n",
        "new_text = text.replace(\"apple\", \"orange\")\n",
        "\n",
        "# Print the result\n",
        "print(new_text)\n"
      ],
      "metadata": {
        "id": "gNEaR2DS8s3y",
        "outputId": "9d0a4d11-3d64-4180-afb0-844feb4d93b5",
        "colab": {
          "base_uri": "https://localhost:8080/"
        }
      },
      "execution_count": 6,
      "outputs": [
        {
          "output_type": "stream",
          "name": "stdout",
          "text": [
            "I like orange\n"
          ]
        }
      ]
    },
    {
      "cell_type": "markdown",
      "source": [
        "6)Write a code to create a list with numbers 1 to 5 and print it?\n",
        "Ans:- Sure! Here's a simple Python code to create a list with numbers 1 to 5 and print it:\n",
        "\n"
      ],
      "metadata": {
        "id": "-TVsVcya84RV"
      }
    },
    {
      "cell_type": "code",
      "source": [
        "# Create a list with numbers 1 to 5\n",
        "numbers = [1, 2, 3, 4, 5]\n",
        "\n",
        "# Print the list\n",
        "print(\"List of numbers:\", numbers)\n"
      ],
      "metadata": {
        "id": "j17UYrka9Ahn",
        "outputId": "451b75c3-13a1-41a3-e0da-1bad89d8e1c0",
        "colab": {
          "base_uri": "https://localhost:8080/"
        }
      },
      "execution_count": 7,
      "outputs": [
        {
          "output_type": "stream",
          "name": "stdout",
          "text": [
            "List of numbers: [1, 2, 3, 4, 5]\n"
          ]
        }
      ]
    },
    {
      "cell_type": "markdown",
      "source": [
        "7) Write a code to append the number 10 to the list [1, 2, 3, 4]?\n",
        "Ans:- Sure! Here's the Python code to append the number 10 to the list [1, 2, 3, 4]:\n",
        "\n",
        "\n"
      ],
      "metadata": {
        "id": "a4n3jksn9Cx5"
      }
    },
    {
      "cell_type": "code",
      "source": [
        "# Define the list\n",
        "numbers = [1, 2, 3, 4]\n",
        "\n",
        "# Append the number 10\n",
        "numbers.append(10)\n",
        "\n",
        "# Print the updated list\n",
        "print(\"Updated list:\", numbers)\n"
      ],
      "metadata": {
        "id": "YFp4GJyZ9WDv",
        "outputId": "6968ea81-e45e-4e44-f41b-c1718eaba45f",
        "colab": {
          "base_uri": "https://localhost:8080/"
        }
      },
      "execution_count": 8,
      "outputs": [
        {
          "output_type": "stream",
          "name": "stdout",
          "text": [
            "Updated list: [1, 2, 3, 4, 10]\n"
          ]
        }
      ]
    },
    {
      "cell_type": "markdown",
      "source": [
        "8)Write a code to remove the number 3 from the list [1, 2, 3, 4, 5]?\n",
        "Ans:- Sure! Here's a Python code to remove the number 3 from the list [1, 2, 3, 4, 5]:\n",
        "\n"
      ],
      "metadata": {
        "id": "n4yAL6hE9ftS"
      }
    },
    {
      "cell_type": "code",
      "source": [
        "# Define the list\n",
        "numbers = [1, 2, 3, 4, 5]\n",
        "\n",
        "# Remove the number 3\n",
        "numbers.remove(3)\n",
        "\n",
        "# Print the updated list\n",
        "print(\"Updated list:\", numbers)\n"
      ],
      "metadata": {
        "id": "qXtTC1A49s_P",
        "outputId": "5e249a03-f5ed-4360-e652-e12976809ac2",
        "colab": {
          "base_uri": "https://localhost:8080/"
        }
      },
      "execution_count": 9,
      "outputs": [
        {
          "output_type": "stream",
          "name": "stdout",
          "text": [
            "Updated list: [1, 2, 4, 5]\n"
          ]
        }
      ]
    },
    {
      "cell_type": "markdown",
      "source": [
        "9)Write a code to access the second element in the list ['a', 'b', 'c', 'd']?\n",
        "Ans:-Sure! Here's the Python code to access the second element in the list ['a', 'b', 'c', 'd']:\n",
        "\n",
        "\n"
      ],
      "metadata": {
        "id": "jVZBS1e99xSI"
      }
    },
    {
      "cell_type": "code",
      "source": [
        "# Define the list\n",
        "letters = ['a', 'b', 'c', 'd']\n",
        "\n",
        "# Access the second element (index 1)\n",
        "second_element = letters[1]\n",
        "\n",
        "# Print the second element\n",
        "print(\"Second element:\", second_element)\n"
      ],
      "metadata": {
        "id": "6VqPYuH5_K37",
        "outputId": "bdd70d52-2d9e-423e-8d37-fa67e8d69925",
        "colab": {
          "base_uri": "https://localhost:8080/"
        }
      },
      "execution_count": 10,
      "outputs": [
        {
          "output_type": "stream",
          "name": "stdout",
          "text": [
            "Second element: b\n"
          ]
        }
      ]
    },
    {
      "cell_type": "markdown",
      "source": [
        "10)  Write a code to reverse the list [10, 20, 30, 40, 50]?\n",
        "Ans:-Sure! Here's a Python code to reverse the list [10, 20, 30, 40, 50]:\n",
        "\n"
      ],
      "metadata": {
        "id": "23Y9yrmS_MUR"
      }
    },
    {
      "cell_type": "code",
      "source": [
        "# Define the list\n",
        "numbers = [10, 20, 30, 40, 50]\n",
        "\n",
        "# Reverse the list\n",
        "numbers.reverse()\n",
        "\n",
        "# Print the reversed list\n",
        "print(\"Reversed list:\", numbers)\n"
      ],
      "metadata": {
        "id": "UNhmo8ZK_nNp",
        "outputId": "7c6f1399-231e-4fab-8310-f57202a707cd",
        "colab": {
          "base_uri": "https://localhost:8080/"
        }
      },
      "execution_count": 11,
      "outputs": [
        {
          "output_type": "stream",
          "name": "stdout",
          "text": [
            "Reversed list: [50, 40, 30, 20, 10]\n"
          ]
        }
      ]
    },
    {
      "cell_type": "markdown",
      "source": [
        "11)Write a code to create a tuple with the elements 100, 200, 300 and print it.\n",
        "Ans:-Certainly! Here's the Python code to create a tuple with the elements 100, 200, and 300, and print it:\n"
      ],
      "metadata": {
        "id": "AlA3Eiie_qA3"
      }
    },
    {
      "cell_type": "code",
      "source": [
        "# Create the tuple\n",
        "my_tuple = (100, 200, 300)\n",
        "\n",
        "# Print the tuple\n",
        "print(\"Tuple:\", my_tuple)\n"
      ],
      "metadata": {
        "id": "AI7DOmAyAGU1",
        "outputId": "e2311764-48b9-4837-9212-5356c7940c57",
        "colab": {
          "base_uri": "https://localhost:8080/"
        }
      },
      "execution_count": 12,
      "outputs": [
        {
          "output_type": "stream",
          "name": "stdout",
          "text": [
            "Tuple: (100, 200, 300)\n"
          ]
        }
      ]
    },
    {
      "cell_type": "markdown",
      "source": [
        "12) Write a code to access the second-to-last element of the tuple ('red', 'green', 'blue', 'yellow').\n",
        "Ans:- To access the second-to-last element of the tuple ('red', 'green', 'blue', 'yellow'), you can use negative indexing. Here's the Python code:\n",
        "\n"
      ],
      "metadata": {
        "id": "EGalhf0sALSR"
      }
    },
    {
      "cell_type": "code",
      "source": [
        "# Define the tuple\n",
        "my_tuple = ('red', 'green', 'blue', 'yellow')\n",
        "\n",
        "# Access the second-to-last element\n",
        "second_to_last = my_tuple[-2]\n",
        "\n",
        "# Print the second-to-last element\n",
        "print(\"Second-to-last element:\", second_to_last)\n"
      ],
      "metadata": {
        "id": "Rk-Eku7BAVqY",
        "outputId": "ed8259f4-774c-4260-9cef-d586349f0ae1",
        "colab": {
          "base_uri": "https://localhost:8080/"
        }
      },
      "execution_count": 13,
      "outputs": [
        {
          "output_type": "stream",
          "name": "stdout",
          "text": [
            "Second-to-last element: blue\n"
          ]
        }
      ]
    },
    {
      "cell_type": "markdown",
      "source": [
        "13) Write a code to find the minimum number in the tuple (10, 20, 5, 15).\n",
        "Ans:- Certainly! Here's the Python code to find the minimum number in the tuple (10, 20, 5, 15):\n",
        "\n"
      ],
      "metadata": {
        "id": "ATSm8r7-AXQr"
      }
    },
    {
      "cell_type": "code",
      "source": [
        "# Define the tuple\n",
        "my_tuple = (10, 20, 5, 15)\n",
        "\n",
        "# Find the minimum number\n",
        "min_value = min(my_tuple)\n",
        "\n",
        "# Print the minimum value\n",
        "print(\"Minimum number:\", min_value)\n"
      ],
      "metadata": {
        "id": "I-RndAIGAqR_",
        "outputId": "ed7eb1fc-6c55-4015-de53-ef70ea68169e",
        "colab": {
          "base_uri": "https://localhost:8080/"
        }
      },
      "execution_count": 14,
      "outputs": [
        {
          "output_type": "stream",
          "name": "stdout",
          "text": [
            "Minimum number: 5\n"
          ]
        }
      ]
    },
    {
      "cell_type": "markdown",
      "source": [
        "14) Write a code to find the index of the element \"cat\" in the tuple ('dog', 'cat', 'rabbit').\n",
        "Ans:-Sure! Here's the Python code to find the index of the element \"cat\" in the tuple ('dog', 'cat', 'rabbit'):\n",
        "\n",
        "\n"
      ],
      "metadata": {
        "id": "7HmAyMwoAsLF"
      }
    },
    {
      "cell_type": "code",
      "source": [
        "# Define the tuple\n",
        "my_tuple = ('dog', 'cat', 'rabbit')\n",
        "\n",
        "# Find the index of the element \"cat\"\n",
        "index_of_cat = my_tuple.index('cat')\n",
        "\n",
        "# Print the index\n",
        "print(\"Index of 'cat':\", index_of_cat)\n"
      ],
      "metadata": {
        "id": "XePpwjLBBI9z",
        "outputId": "93ee1e7f-5c1e-45fb-a23a-c2147cec030b",
        "colab": {
          "base_uri": "https://localhost:8080/"
        }
      },
      "execution_count": 15,
      "outputs": [
        {
          "output_type": "stream",
          "name": "stdout",
          "text": [
            "Index of 'cat': 1\n"
          ]
        }
      ]
    },
    {
      "cell_type": "markdown",
      "source": [
        "15) Write a code to create a tuple containing three different fruits and check if \"kiwi\" is in it.\n",
        "Ans:- Here's the Python code to create a tuple containing three different fruits and check if \"kiwi\" is in it:\n",
        "\n"
      ],
      "metadata": {
        "id": "7VVIbSZ0BM_0"
      }
    },
    {
      "cell_type": "code",
      "source": [
        "# Define the tuple with three fruits\n",
        "fruits = ('apple', 'banana', 'cherry')\n",
        "\n",
        "# Check if \"kiwi\" is in the tuple\n",
        "is_kiwi_in_tuple = 'kiwi' in fruits\n",
        "\n",
        "# Print the result\n",
        "print(\"Is 'kiwi' in the tuple?\", is_kiwi_in_tuple)\n",
        "16. Write a code to create a set with the elements 'a', 'b', 'c' and print it."
      ],
      "metadata": {
        "id": "9ZC1RPiABdEs",
        "outputId": "644d1d99-d7e8-4ec3-9833-5355b0c041a3",
        "colab": {
          "base_uri": "https://localhost:8080/"
        }
      },
      "execution_count": 16,
      "outputs": [
        {
          "output_type": "stream",
          "name": "stdout",
          "text": [
            "Is 'kiwi' in the tuple? False\n"
          ]
        }
      ]
    },
    {
      "cell_type": "markdown",
      "source": [
        "16) Write a code to create a set with the elements 'a', 'b', 'c' and print it.\n",
        "Ans:-Here's the Python code to create a set with the elements 'a', 'b', and 'c' and print it:\n",
        "\n"
      ],
      "metadata": {
        "id": "vY2aDKYPBlQR"
      }
    },
    {
      "cell_type": "code",
      "source": [
        "# Create the set\n",
        "my_set = {'a', 'b', 'c'}\n",
        "\n",
        "# Print the set\n",
        "print(\"Set:\", my_set)\n"
      ],
      "metadata": {
        "id": "G4llhnQKBvJg",
        "outputId": "a478eee2-3d54-4f25-eae4-d864add08ac5",
        "colab": {
          "base_uri": "https://localhost:8080/"
        }
      },
      "execution_count": 17,
      "outputs": [
        {
          "output_type": "stream",
          "name": "stdout",
          "text": [
            "Set: {'b', 'a', 'c'}\n"
          ]
        }
      ]
    },
    {
      "cell_type": "markdown",
      "source": [
        "17) Write a code to clear all elements from the set {1, 2, 3, 4, 5}.\n",
        "Ans:- Sure! Here's the Python code to clear all elements from the set {1, 2, 3, 4, 5}:\n",
        "\n",
        "\n"
      ],
      "metadata": {
        "id": "13bjrJFxByX1"
      }
    },
    {
      "cell_type": "code",
      "source": [
        "# Define the set\n",
        "my_set = {1, 2, 3, 4, 5}\n",
        "\n",
        "# Clear all elements from the set\n",
        "my_set.clear()\n",
        "\n",
        "# Print the cleared set\n",
        "print(\"Cleared set:\", my_set)\n"
      ],
      "metadata": {
        "id": "krpPPieEB-rW",
        "outputId": "6db2a898-c6e1-42b6-d03d-d724a5c5fd5e",
        "colab": {
          "base_uri": "https://localhost:8080/"
        }
      },
      "execution_count": 18,
      "outputs": [
        {
          "output_type": "stream",
          "name": "stdout",
          "text": [
            "Cleared set: set()\n"
          ]
        }
      ]
    },
    {
      "cell_type": "markdown",
      "source": [
        "18) Write a code to remove the element 4 from the set {1, 2, 3, 4}.\n",
        "Ans:- Here's the Python code to remove the element 4 from the set {1, 2, 3, 4}:\n"
      ],
      "metadata": {
        "id": "kd3fRqLNCLbF"
      }
    },
    {
      "cell_type": "code",
      "source": [
        "# Define the set\n",
        "my_set = {1, 2, 3, 4}\n",
        "\n",
        "# Remove the element 4\n",
        "my_set.remove(4)\n",
        "\n",
        "# Print the updated set\n",
        "print(\"Updated set:\", my_set)\n"
      ],
      "metadata": {
        "id": "AGQDu1etCnUD",
        "outputId": "02c1625c-b6fc-4b19-c11f-8c97f3fe3b57",
        "colab": {
          "base_uri": "https://localhost:8080/"
        }
      },
      "execution_count": 19,
      "outputs": [
        {
          "output_type": "stream",
          "name": "stdout",
          "text": [
            "Updated set: {1, 2, 3}\n"
          ]
        }
      ]
    },
    {
      "cell_type": "markdown",
      "source": [
        "19) Write a code to find the union of two sets {1, 2, 3} and {3, 4, 5}.\n",
        "Ans:-Here's the Python code to find the union of two sets {1, 2, 3} and {3, 4, 5}:\n",
        "\n",
        "\n"
      ],
      "metadata": {
        "id": "uOiBmdwYCqMn"
      }
    },
    {
      "cell_type": "code",
      "source": [
        "# Define the sets\n",
        "set1 = {1, 2, 3}\n",
        "set2 = {3, 4, 5}\n",
        "\n",
        "# Find the union of the two sets\n",
        "union_set = set1 | set2  # Alternatively, you can use set1.union(set2)\n",
        "\n",
        "# Print the union of the sets\n",
        "print(\"Union of the sets:\", union_set)\n"
      ],
      "metadata": {
        "id": "oRPdd9S4DCED",
        "outputId": "f95aaf00-105d-4d50-f87b-2c7d32104d4a",
        "colab": {
          "base_uri": "https://localhost:8080/"
        }
      },
      "execution_count": 20,
      "outputs": [
        {
          "output_type": "stream",
          "name": "stdout",
          "text": [
            "Union of the sets: {1, 2, 3, 4, 5}\n"
          ]
        }
      ]
    },
    {
      "cell_type": "markdown",
      "source": [
        "20) Write a code to find the intersection of two sets {1, 2, 3} and {2, 3, 4}.\n",
        "Ans:-Here's the Python code to find the intersection of the two sets {1, 2, 3} and {2, 3, 4}:\n",
        "\n",
        "\n"
      ],
      "metadata": {
        "id": "SIrX8QGXDE6a"
      }
    },
    {
      "cell_type": "code",
      "source": [
        "# Define the sets\n",
        "set1 = {1, 2, 3}\n",
        "set2 = {2, 3, 4}\n",
        "\n",
        "# Find the intersection of the two sets\n",
        "intersection_set = set1 & set2  # Alternatively, you can use set1.intersection(set2)\n",
        "\n",
        "# Print the intersection of the sets\n",
        "print(\"Intersection of the sets:\", intersection_set)\n"
      ],
      "metadata": {
        "id": "BhfEppsjDSh6",
        "outputId": "61218904-13d5-479a-cf1c-31064ea93bef",
        "colab": {
          "base_uri": "https://localhost:8080/"
        }
      },
      "execution_count": 21,
      "outputs": [
        {
          "output_type": "stream",
          "name": "stdout",
          "text": [
            "Intersection of the sets: {2, 3}\n"
          ]
        }
      ]
    },
    {
      "cell_type": "markdown",
      "source": [
        "21) Write a code to create a dictionary with the keys \"name\", \"age\", and \"city\", and print it.\n",
        "Ans:- Here's the Python code to create a dictionary with the keys \"name\", \"age\", and \"city\", and print it:\n",
        "\n",
        "\n"
      ],
      "metadata": {
        "id": "Wue8Jb51DV0B"
      }
    },
    {
      "cell_type": "code",
      "source": [
        "# Create the dictionary\n",
        "my_dict = {\n",
        "    \"name\": \"John\",\n",
        "    \"age\": 25,\n",
        "    \"city\": \"New York\"\n",
        "}\n",
        "\n",
        "# Print the dictionary\n",
        "print(\"Dictionary:\", my_dict)\n"
      ],
      "metadata": {
        "id": "0lq-UECPDjTx",
        "outputId": "5284c5e2-5c80-4be1-cdc4-3bb4e7a93308",
        "colab": {
          "base_uri": "https://localhost:8080/"
        }
      },
      "execution_count": 22,
      "outputs": [
        {
          "output_type": "stream",
          "name": "stdout",
          "text": [
            "Dictionary: {'name': 'John', 'age': 25, 'city': 'New York'}\n"
          ]
        }
      ]
    },
    {
      "cell_type": "markdown",
      "source": [
        "22) Write a code to add a new key-value pair \"country\": \"USA\" to the dictionary {'name': 'John', 'age': 25}.\n",
        "Ans:-Here's the Python code to add a new key-value pair \"country\": \"USA\" to the dictionary {'name': 'John', 'age': 25}:\n"
      ],
      "metadata": {
        "id": "Hawj0MU9DlND"
      }
    },
    {
      "cell_type": "code",
      "source": [
        "# Define the original dictionary\n",
        "my_dict = {'name': 'John', 'age': 25}\n",
        "\n",
        "# Add the new key-value pair\n",
        "my_dict[\"country\"] = \"USA\"\n",
        "\n",
        "# Print the updated dictionary\n",
        "print(\"Updated dictionary:\", my_dict)\n"
      ],
      "metadata": {
        "id": "-Yhp3DhhD5qo",
        "outputId": "d6034d20-3646-4135-f3be-1db49b5a72fd",
        "colab": {
          "base_uri": "https://localhost:8080/"
        }
      },
      "execution_count": 23,
      "outputs": [
        {
          "output_type": "stream",
          "name": "stdout",
          "text": [
            "Updated dictionary: {'name': 'John', 'age': 25, 'country': 'USA'}\n"
          ]
        }
      ]
    },
    {
      "cell_type": "markdown",
      "source": [
        "23) Write a code to access the value associated with the key \"name\" in the dictionary {'name': 'Alice', 'age': 30}.\n",
        "Ans:-Here's the Python code to access the value associated with the key \"name\" in the dictionary {'name': 'Alice', 'age': 30}:\n",
        "\n"
      ],
      "metadata": {
        "id": "1dOgkotcD8ey"
      }
    },
    {
      "cell_type": "code",
      "source": [
        "# Define the dictionary\n",
        "my_dict = {'name': 'Alice', 'age': 30}\n",
        "\n",
        "# Access the value associated with the key \"name\"\n",
        "name_value = my_dict['name']\n",
        "\n",
        "# Print the value\n",
        "print(\"Value associated with 'name':\", name_value)\n"
      ],
      "metadata": {
        "id": "gMgedHsMELdA",
        "outputId": "6b4605d5-acd3-419a-d766-b45b7634a910",
        "colab": {
          "base_uri": "https://localhost:8080/"
        }
      },
      "execution_count": 24,
      "outputs": [
        {
          "output_type": "stream",
          "name": "stdout",
          "text": [
            "Value associated with 'name': Alice\n"
          ]
        }
      ]
    },
    {
      "cell_type": "markdown",
      "source": [
        "24) Write a code to remove the key \"age\" from the dictionary {'name': 'Bob', 'age': 22, 'city': 'New York'}.\n",
        "Ans:-Here’s the Python code to remove the key \"age\" from the dictionary {'name': 'Bob', 'age': 22, 'city': 'New York'}:\n",
        "\n"
      ],
      "metadata": {
        "id": "p_RhJqCiEOV9"
      }
    },
    {
      "cell_type": "code",
      "source": [
        "# Define the dictionary\n",
        "my_dict = {'name': 'Bob', 'age': 22, 'city': 'New York'}\n",
        "\n",
        "# Remove the key \"age\"\n",
        "del my_dict['age']\n",
        "\n",
        "# Print the updated dictionary\n",
        "print(\"Updated dictionary:\", my_dict)\n"
      ],
      "metadata": {
        "id": "TkTEW7scEZZi",
        "outputId": "9c97b333-83a8-4d5e-96aa-f93adc0bbc07",
        "colab": {
          "base_uri": "https://localhost:8080/"
        }
      },
      "execution_count": 25,
      "outputs": [
        {
          "output_type": "stream",
          "name": "stdout",
          "text": [
            "Updated dictionary: {'name': 'Bob', 'city': 'New York'}\n"
          ]
        }
      ]
    },
    {
      "cell_type": "markdown",
      "source": [
        "25) Write a code to check if the key \"city\" exists in the dictionary {'name': 'Alice', 'city': 'Paris'}.\n",
        "Ans:- Here's the Python code to check if the key \"city\" exists in the dictionary {'name': 'Alice', 'city': 'Paris'}:\n",
        "\n",
        "\n"
      ],
      "metadata": {
        "id": "_EyWKQexEb8W"
      }
    },
    {
      "cell_type": "code",
      "source": [
        "# Define the dictionary\n",
        "my_dict = {'name': 'Alice', 'city': 'Paris'}\n",
        "\n",
        "# Check if the key \"city\" exists in the dictionary\n",
        "key_exists = 'city' in my_dict\n",
        "\n",
        "# Print the result\n",
        "print(\"Does the key 'city' exist?\", key_exists)\n"
      ],
      "metadata": {
        "id": "Bwn0pJAHEgJt",
        "outputId": "56a0f821-8a8c-496e-d6ca-2aa52d0ad7b5",
        "colab": {
          "base_uri": "https://localhost:8080/"
        }
      },
      "execution_count": 26,
      "outputs": [
        {
          "output_type": "stream",
          "name": "stdout",
          "text": [
            "Does the key 'city' exist? True\n"
          ]
        }
      ]
    },
    {
      "cell_type": "markdown",
      "source": [
        "26) Write a code to create a list, a tuple, and a dictionary, and print them all.\n",
        "Ans:-Here’s the Python code to create a list, a tuple, and a dictionary, and print them all:\n",
        "\n"
      ],
      "metadata": {
        "id": "EbGyqrccEsNv"
      }
    },
    {
      "cell_type": "code",
      "source": [
        "# Create a list\n",
        "my_list = [1, 2, 3, 4, 5]\n",
        "\n",
        "# Create a tuple\n",
        "my_tuple = ('apple', 'banana', 'cherry')\n",
        "\n",
        "# Create a dictionary\n",
        "my_dict = {'name': 'Alice', 'age': 25, 'city': 'New York'}\n",
        "\n",
        "# Print all of them\n",
        "print(\"List:\", my_list)\n",
        "print(\"Tuple:\", my_tuple)\n",
        "print(\"Dictionary:\", my_dict)\n"
      ],
      "metadata": {
        "id": "WMOIyA1nE8Ly",
        "outputId": "e43b1d50-d1ab-4ea9-c5a6-26885579a688",
        "colab": {
          "base_uri": "https://localhost:8080/"
        }
      },
      "execution_count": 27,
      "outputs": [
        {
          "output_type": "stream",
          "name": "stdout",
          "text": [
            "List: [1, 2, 3, 4, 5]\n",
            "Tuple: ('apple', 'banana', 'cherry')\n",
            "Dictionary: {'name': 'Alice', 'age': 25, 'city': 'New York'}\n"
          ]
        }
      ]
    },
    {
      "cell_type": "markdown",
      "source": [
        "27) Write a code to create a list of 5 random numbers between 1 and 100, sort it in ascending order, and print the\n",
        "result.(replaced)\n",
        "Ans:-Here's the Python code to create a list of 5 random numbers between 1 and 100, sort it in ascending order, and print the result:\n",
        "\n"
      ],
      "metadata": {
        "id": "cV05w7eSFCs_"
      }
    },
    {
      "cell_type": "code",
      "source": [
        "import random\n",
        "\n",
        "# Create a list of 5 random numbers between 1 and 100\n",
        "random_numbers = [random.randint(1, 100) for _ in range(5)]\n",
        "\n",
        "# Sort the list in ascending order\n",
        "random_numbers.sort()\n",
        "\n",
        "# Print the sorted list\n",
        "print(\"Sorted list of random numbers:\", random_numbers)\n"
      ],
      "metadata": {
        "id": "FUpVvf4CFSh8",
        "outputId": "93f0b307-acbd-408a-9e41-2d748c1937af",
        "colab": {
          "base_uri": "https://localhost:8080/"
        }
      },
      "execution_count": 28,
      "outputs": [
        {
          "output_type": "stream",
          "name": "stdout",
          "text": [
            "Sorted list of random numbers: [2, 21, 41, 45, 88]\n"
          ]
        }
      ]
    },
    {
      "cell_type": "markdown",
      "source": [
        "28) Write a code to create a list with strings and print the element at the third index.\n",
        "Ans:-Here's the Python code to create a list with strings and print the element at the third index (which is the fourth element, since indexing starts from 0):\n",
        "\n"
      ],
      "metadata": {
        "id": "tMQOc3y1FU6F"
      }
    },
    {
      "cell_type": "code",
      "source": [
        "# Create a list of strings\n",
        "my_list = [\"apple\", \"banana\", \"cherry\", \"date\", \"elderberry\"]\n",
        "\n",
        "# Print the element at the third index\n",
        "print(\"Element at the third index:\", my_list[3])\n"
      ],
      "metadata": {
        "id": "WrEP_63kFipd",
        "outputId": "f8be5382-b21e-4859-d421-7d5066e1c706",
        "colab": {
          "base_uri": "https://localhost:8080/"
        }
      },
      "execution_count": 29,
      "outputs": [
        {
          "output_type": "stream",
          "name": "stdout",
          "text": [
            "Element at the third index: date\n"
          ]
        }
      ]
    },
    {
      "cell_type": "markdown",
      "source": [
        "29) Write a code to combine two dictionaries into one and print the result.\n",
        "Ans:-Here's the Python code to combine two dictionaries into one and print the result:\n",
        "\n"
      ],
      "metadata": {
        "id": "jjfyIHg_FkGW"
      }
    },
    {
      "cell_type": "code",
      "source": [
        "# Define two dictionaries\n",
        "dict1 = {'name': 'Alice', 'age': 25}\n",
        "dict2 = {'city': 'New York', 'job': 'Engineer'}\n",
        "\n",
        "# Combine the dictionaries\n",
        "combined_dict = {**dict1, **dict2}\n",
        "\n",
        "# Print the combined dictionary\n",
        "print(\"Combined dictionary:\", combined_dict)\n"
      ],
      "metadata": {
        "id": "Pul0Y8GBFwOa",
        "outputId": "2e5f53d7-0f68-4601-ef36-a43945e49f0e",
        "colab": {
          "base_uri": "https://localhost:8080/"
        }
      },
      "execution_count": 30,
      "outputs": [
        {
          "output_type": "stream",
          "name": "stdout",
          "text": [
            "Combined dictionary: {'name': 'Alice', 'age': 25, 'city': 'New York', 'job': 'Engineer'}\n"
          ]
        }
      ]
    },
    {
      "cell_type": "markdown",
      "source": [
        "30) Write a code to convert a list of strings into a set.\n",
        "Ans:-Here’s the Python code to convert a list of strings into a set:\n",
        "\n"
      ],
      "metadata": {
        "id": "Mwke3MKDFysI"
      }
    },
    {
      "cell_type": "code",
      "source": [
        "# Define a list of strings\n",
        "my_list = [\"apple\", \"banana\", \"cherry\", \"apple\", \"date\"]\n",
        "\n",
        "# Convert the list into a set\n",
        "my_set = set(my_list)\n",
        "\n",
        "# Print the set\n",
        "print(\"Converted set:\", my_set)\n"
      ],
      "metadata": {
        "id": "zx5mMNUIF_wf",
        "outputId": "4369e6c5-54ab-4e86-c4e4-3e604e28e8eb",
        "colab": {
          "base_uri": "https://localhost:8080/"
        }
      },
      "execution_count": 31,
      "outputs": [
        {
          "output_type": "stream",
          "name": "stdout",
          "text": [
            "Converted set: {'date', 'banana', 'cherry', 'apple'}\n"
          ]
        }
      ]
    }
  ]
}